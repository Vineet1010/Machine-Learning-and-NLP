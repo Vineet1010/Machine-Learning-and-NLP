{
 "cells": [
  {
   "cell_type": "code",
   "execution_count": 73,
   "metadata": {},
   "outputs": [],
   "source": [
    "import numpy as np\n",
    "import pandas as pd\n",
    "\n",
    "#ds = pd.read_csv(\"https://media-doselect.s3.amazonaws.com/generic/qAgPbkyQ0zNOWxVg9zQ7Wa1kY/training-CustomerSatisfaction.zip\")\n",
    "ds = pd.read_csv(\"CustomerSatisfaction.csv\")\n",
    "ds1 = ds.drop(['ID'], axis = 1)\n",
    "\n",
    "X = ds1.drop('TARGET', axis = 1)\n",
    "y = ds1['TARGET']\n",
    "\n",
    "from sklearn.model_selection import train_test_split\n",
    "X_train, X_test, y_train, y_test = train_test_split(X, y, test_size = 0.15)\n",
    "\n",
    "from sklearn.ensemble import RandomForestClassifier\n",
    "rf_ds1 = RandomForestClassifier(n_estimators = 10)\n",
    "rf_ds1.fit(X_train, y_train)\n",
    "\n",
    "from sklearn.metrics import accuracy_score\n",
    "pred = rf_ds1.predict(X_test)\n",
    "acc = accuracy_score(y_test, pred)\n",
    "acc_r = round(acc, 3)\n",
    "\n",
    "#with open(\"/code/output/Accuracy.csv\", mode = \"w\") as f:\n",
    "with open(\"Accuracy.csv\", mode = \"w\") as f:\n",
    "    f.write(str(acc_r))\n",
    "    \n",
    "features = pd.DataFrame({'Features' : X_train.columns, 'Importance' : np.round(rf_ds1.feature_importances_, 3)})\n",
    "features = features.sort_values('Importance', ascending = False)\n",
    "fea_sort = features[\"Features\"]\n",
    "fea1 = fea_sort[0:1]\n",
    "fea2 = fea_sort[1:2]\n",
    "res1 = fea1.to_string(index = False).lstrip()\n",
    "res2 = fea2.to_string(index = False).lstrip()\n",
    "\n",
    "#with open(\"/code/output/TopFeatures.csv\", mode = \"w\") as f:\n",
    "with open(\"TopFeatures.csv\", mode = \"w\") as f:\n",
    "    f.write(str(res1))\n",
    "    f.write(\"\\n\")\n",
    "    f.write(str(res2))"
   ]
  },
  {
   "cell_type": "code",
   "execution_count": 11,
   "metadata": {},
   "outputs": [],
   "source": [
    "import numpy as np\n",
    "import pandas as pd\n",
    "\n",
    "#ds = pd.read_csv(\"https://media-doselect.s3.amazonaws.com/generic/qAgPbkyQ0zNOWxVg9zQ7Wa1kY/training-CustomerSatisfaction.zip\")\n",
    "ds = pd.read_csv(\"CustomerSatisfaction.csv\")\n",
    "ds1 = ds.drop(['ID'], axis = 1)\n",
    "\n",
    "X = ds1.drop('TARGET', axis = 1)\n",
    "y = ds1['TARGET']\n",
    "\n",
    "from sklearn.model_selection import train_test_split\n",
    "X_train, X_test, y_train, y_test = train_test_split(X, y, test_size = 0.2, random_state = 3)\n",
    "\n",
    "from sklearn.tree import DecisionTreeClassifier\n",
    "dt_ds1 = DecisionTreeClassifier(random_state = 0)\n",
    "dt_ds1.fit(X_train, y_train)\n",
    "\n",
    "from sklearn.metrics import accuracy_score\n",
    "pred = dt_ds1.predict(X_test)\n",
    "acc = accuracy_score(y_test, pred)\n",
    "acc_r = round(acc, 3)\n",
    "\n",
    "#with open(\"/code/output/Accuracy.csv\", mode = \"w\") as f:\n",
    "with open(\"Accuracy.csv\", mode = \"w\") as f:\n",
    "    f.write(str(acc_r))\n",
    "    \n",
    "features = pd.DataFrame({'features' : X_train.columns, 'score' : np.round(dt_ds1.feature_importances_, 3)})\n",
    "features = features.sort_values('score', ascending = False)\n",
    "features[0:5].to_csv('TopFeatures.csv', mode = \"w\", index = False)"
   ]
  },
  {
   "cell_type": "code",
   "execution_count": 10,
   "metadata": {},
   "outputs": [
    {
     "name": "stdout",
     "output_type": "stream",
     "text": [
      "Requirement already satisfied: imblearn in c:\\users\\stiff\\anaconda3\\lib\\site-packages (0.0)\n",
      "Requirement already satisfied: imbalanced-learn in c:\\users\\stiff\\anaconda3\\lib\\site-packages (from imblearn) (0.7.0)\n",
      "Requirement already satisfied: scikit-learn>=0.23 in c:\\users\\stiff\\anaconda3\\lib\\site-packages (from imbalanced-learn->imblearn) (0.23.1)\n",
      "Requirement already satisfied: scipy>=0.19.1 in c:\\users\\stiff\\anaconda3\\lib\\site-packages (from imbalanced-learn->imblearn) (1.4.1)\n",
      "Requirement already satisfied: numpy>=1.13.3 in c:\\users\\stiff\\anaconda3\\lib\\site-packages (from imbalanced-learn->imblearn) (1.18.1)\n",
      "Requirement already satisfied: joblib>=0.11 in c:\\users\\stiff\\anaconda3\\lib\\site-packages (from imbalanced-learn->imblearn) (0.14.1)\n",
      "Requirement already satisfied: threadpoolctl>=2.0.0 in c:\\users\\stiff\\anaconda3\\lib\\site-packages (from scikit-learn>=0.23->imbalanced-learn->imblearn) (2.1.0)\n"
     ]
    },
    {
     "name": "stderr",
     "output_type": "stream",
     "text": [
      "C:\\Users\\Stiff\\anaconda3\\lib\\site-packages\\sklearn\\linear_model\\_sag.py:330: ConvergenceWarning: The max_iter was reached which means the coef_ did not converge\n",
      "  \"the coef_ did not converge\", ConvergenceWarning)\n"
     ]
    }
   ],
   "source": [
    "import numpy as np\n",
    "import pandas as pd\n",
    "\n",
    "#ds = pd.read_csv(\"https://media-doselect.s3.amazonaws.com/generic/qAgPbkyQ0zNOWxVg9zQ7Wa1kY/training-CustomerSatisfaction.zip\")\n",
    "ds = pd.read_csv(\"CustomerSatisfaction.csv\")\n",
    "ds1 = ds.drop(['ID'], axis = 1)\n",
    "\n",
    "X = ds1.drop('TARGET', axis = 1)\n",
    "y = ds1['TARGET']\n",
    "\n",
    "from imblearn.over_sampling import SMOTE\n",
    "smt = SMOTE()\n",
    "oX_train, oy_train = smt.fit_sample(X, y)\n",
    "\n",
    "from sklearn.model_selection import train_test_split\n",
    "X_train, X_test, y_train, y_test = train_test_split(oX_train, oy_train, test_size = 0.15, random_state = 2)\n",
    "\n",
    "from sklearn.linear_model import LogisticRegression\n",
    "logreg = LogisticRegression(C = 0.1, solver = 'saga', max_iter = 1)\n",
    "logreg.fit(X_train,y_train)\n",
    "l_pred = logreg.predict(X_test)\n",
    "\n",
    "from sklearn import metrics\n",
    "acc1 = metrics.accuracy_score(y_test, l_pred)\n",
    "acc1_r = round(acc1, 3)\n",
    "\n",
    "logreg = LogisticRegression(C = 5, solver = 'lbfgs', max_iter = 1000)\n",
    "logreg.fit(X_train,y_train)\n",
    "l_pred = logreg.predict(X_test)\n",
    "\n",
    "acc2 = metrics.accuracy_score(y_test, l_pred)\n",
    "acc2_r = round(acc2, 3)\n",
    "\n",
    "#with open(\"/code/output/output.csv\", mode = \"w\") as f:\n",
    "with open(\"output.csv\", mode = \"w\") as f:\n",
    "    f.write(str(acc1_r))\n",
    "    f.write(\"\\n\")\n",
    "    f.write(str(acc2_r))"
   ]
  }
 ],
 "metadata": {
  "kernelspec": {
   "display_name": "Python 3",
   "language": "python",
   "name": "python3"
  },
  "language_info": {
   "codemirror_mode": {
    "name": "ipython",
    "version": 3
   },
   "file_extension": ".py",
   "mimetype": "text/x-python",
   "name": "python",
   "nbconvert_exporter": "python",
   "pygments_lexer": "ipython3",
   "version": "3.7.6"
  }
 },
 "nbformat": 4,
 "nbformat_minor": 4
}
